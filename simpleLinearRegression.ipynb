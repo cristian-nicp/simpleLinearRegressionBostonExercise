{
  "nbformat": 4,
  "nbformat_minor": 0,
  "metadata": {
    "colab": {
      "name": "simpleLinearRegression.ipynb",
      "provenance": [],
      "authorship_tag": "ABX9TyPqxyr1Du2ua2URLuk6W4Ce",
      "include_colab_link": true
    },
    "kernelspec": {
      "name": "python3",
      "display_name": "Python 3"
    }
  },
  "cells": [
    {
      "cell_type": "markdown",
      "metadata": {
        "id": "view-in-github",
        "colab_type": "text"
      },
      "source": [
        "<a href=\"https://colab.research.google.com/github/cristian-nicp/simpleLinearRegressionBostonExercise/blob/master/simpleLinearRegression.ipynb\" target=\"_parent\"><img src=\"https://colab.research.google.com/assets/colab-badge.svg\" alt=\"Open In Colab\"/></a>"
      ]
    },
    {
      "cell_type": "code",
      "metadata": {
        "id": "F8CAS4xCZuQ4",
        "colab_type": "code",
        "colab": {}
      },
      "source": [
        "import numpy as np\n",
        "import matplotlib.pyplot as plt\n",
        "from sklearn import datasets, linear_model"
      ],
      "execution_count": 0,
      "outputs": []
    },
    {
      "cell_type": "code",
      "metadata": {
        "id": "Fg-gFVzHaFp7",
        "colab_type": "code",
        "colab": {}
      },
      "source": [
        "#Importamos los datos de scikit-learn\n",
        "boston = datasets.load_boston()\n",
        "print(boston)\n",
        "print()"
      ],
      "execution_count": 0,
      "outputs": []
    },
    {
      "cell_type": "code",
      "metadata": {
        "id": "Yk-npwZ6ausk",
        "colab_type": "code",
        "colab": {}
      },
      "source": [
        "#ENTENDIENDO LA DATA\n",
        "#Verifico la info contenida en el dataset\n",
        "print('Información en el dataset: ')\n",
        "print(boston.keys())#data#target,columna con rta#feature_names,nombres de cada una de las columnas de la data#descr, descripción total del dataset\n",
        "\n",
        "#Verifico las características del dataset\n",
        "print('Características del dataset: ')\n",
        "print(boston.DESCR)\n",
        "\n",
        "#Verifico la cantidad de datos que hay en el dataset\n",
        "print('Cantidad de datos: ')\n",
        "print(boston.data.shape)\n",
        "\n",
        "#Verifico la información de las columnas\n",
        "print('nombres columnas: ')\n",
        "print(boston.feature_names)"
      ],
      "execution_count": 0,
      "outputs": []
    },
    {
      "cell_type": "code",
      "metadata": {
        "id": "Ms1mw1amuJ1n",
        "colab_type": "code",
        "colab": {}
      },
      "source": [
        "#Seleccionamos solo la columna 5 porque queremos el número de habitaciones(x es la var indep)\n",
        "x = boston.data[:, np.newaxis, 5]"
      ],
      "execution_count": 0,
      "outputs": []
    },
    {
      "cell_type": "code",
      "metadata": {
        "id": "TQsZERHnAxKA",
        "colab_type": "code",
        "colab": {}
      },
      "source": [
        "#definimos 'y' que será igual a los datos contenidos en target\n",
        "y = boston.target"
      ],
      "execution_count": 0,
      "outputs": []
    },
    {
      "cell_type": "code",
      "metadata": {
        "id": "jybIr34jyeqh",
        "colab_type": "code",
        "colab": {
          "base_uri": "https://localhost:8080/",
          "height": 279
        },
        "outputId": "59a77155-3a84-463d-d838-e259a1e84206"
      },
      "source": [
        "#Graficamos los datos correspondientes//una gráfica de dispersion,a primera vista podemos notar que tendrpa un error muy alto\n",
        "plt.scatter(x, y)\n",
        "plt.xlabel('número de habitaciones')\n",
        "plt.ylabel('valor medio')\n",
        "plt.show()"
      ],
      "execution_count": 7,
      "outputs": [
        {
          "output_type": "display_data",
          "data": {
            "image/png": "[encoded data removed]",
            "text/plain": [
              "<Figure size 432x288 with 1 Axes>"
            ]
          },
          "metadata": {
            "tags": []
          }
        }
      ]
    },
    {
      "cell_type": "code",
      "metadata": {
        "id": "rFQ13B4_0aRg",
        "colab_type": "code",
        "colab": {}
      },
      "source": [
        "#IMPLEMENTAMOS LA REGRESIÓN LINEAL SIMPLE\n",
        "#Primero separamos los datos de entrenamiento y los de pruebas\n",
        "from sklearn.model_selection import train_test_split"
      ],
      "execution_count": 0,
      "outputs": []
    },
    {
      "cell_type": "code",
      "metadata": {
        "id": "LznloB0n1BWm",
        "colab_type": "code",
        "colab": {}
      },
      "source": [
        "#un 20%(0.2) de los datos los vamos a usar como prueba,test\n",
        "x_train,x_test,y_train,y_test = train_test_split(x ,y ,test_size = 0.2)"
      ],
      "execution_count": 0,
      "outputs": []
    },
    {
      "cell_type": "code",
      "metadata": {
        "id": "oNG5LtVk1sar",
        "colab_type": "code",
        "colab": {}
      },
      "source": [
        "#Definimos el algoritmo a usar\n",
        "lr = linear_model.LinearRegression()"
      ],
      "execution_count": 0,
      "outputs": []
    },
    {
      "cell_type": "code",
      "metadata": {
        "id": "A-8QSEU81yDx",
        "colab_type": "code",
        "colab": {
          "base_uri": "https://localhost:8080/",
          "height": 34
        },
        "outputId": "8ba5290e-4753-4598-b2b7-233e3d39004e"
      },
      "source": [
        "#Entreno el modelo\n",
        "lr.fit(x_train,y_train)"
      ],
      "execution_count": 11,
      "outputs": [
        {
          "output_type": "execute_result",
          "data": {
            "text/plain": [
              "LinearRegression(copy_X=True, fit_intercept=True, n_jobs=None, normalize=False)"
            ]
          },
          "metadata": {
            "tags": []
          },
          "execution_count": 11
        }
      ]
    },
    {
      "cell_type": "code",
      "metadata": {
        "id": "V5cb-h3T2HW8",
        "colab_type": "code",
        "colab": {}
      },
      "source": [
        "#Realizo una predicción con los datos de prueba\n",
        "y_pred = lr.predict(x_test)"
      ],
      "execution_count": 0,
      "outputs": []
    },
    {
      "cell_type": "code",
      "metadata": {
        "id": "ghEfIR-j2t2E",
        "colab_type": "code",
        "colab": {
          "base_uri": "https://localhost:8080/",
          "height": 499
        },
        "outputId": "396a94df-b7fc-451f-be53-a16da20de0e7"
      },
      "source": [
        "#Graficamos los datos junto con el modelo\n",
        "plt.scatter(x_test, y_test)#scatter es dispersión de los puntos\n",
        "plt.plot(x_test,y_pred,color = 'violet',linewidth=2)\n",
        "plt.title('Regresión Lineal Simple')\n",
        "plt.xlabel('número de habitaciones')\n",
        "plt.ylabel('valor medio')\n",
        "plt.show()\n",
        "#Los datos se encuentran muy dispersos, por lo que es dificil que la linea cubra la mayoria\n",
        "#Significa que para este conjunto de datos especifico,este algoritmo es malo\n",
        "\n",
        "\n",
        "#Calculamos los valores de la pendiente y de la intersección para ver como queda la ecuación del modelo y=mx+b o y=ax+b\n",
        "print()\n",
        "print('Datos del modelo Regresión Lineal Simple')\n",
        "print()\n",
        "print('Valor de la pendiente o coeficiente \"m\": ')\n",
        "print(lr.coef_)\n",
        "\n",
        "print('Valor de la intersección o coeficiente \"b\": ')\n",
        "print(lr.intercept_)\n",
        "\n",
        "print('La ecuación del modelo es igual a: ')\n",
        "print('y =',lr.coef_,'x =',lr.intercept_)\n",
        "\n",
        "#Ahora calculamos la precisión del algoritmo,score,que devuelve el resultado de la estadística al cuadrado\n",
        "print()\n",
        "print('Precisión del modelo: ')\n",
        "print(lr.score(x_train,y_train))\n"
      ],
      "execution_count": 21,
      "outputs": [
        {
          "output_type": "display_data",
          "data": {
            "image/png": "[encoded data removed]",
            "text/plain": [
              "<Figure size 432x288 with 1 Axes>"
            ]
          },
          "metadata": {
            "tags": []
          }
        },
        {
          "output_type": "stream",
          "text": [
            "\n",
            "Datos del modelo Regresión Lineal Simple\n",
            "\n",
            "Valor de la pendiente o coeficiente \"m\": \n",
            "[8.9652987]\n",
            "Valor de la intersección o coeficiente \"b\": \n",
            "-33.69136273255175\n",
            "La ecuación del modelo es igual a: \n",
            "y = [8.9652987] x = -33.69136273255175\n",
            "\n",
            "Precisión del modelo: \n",
            "0.4783671435986384\n"
          ],
          "name": "stdout"
        }
      ]
    }
  ]
}